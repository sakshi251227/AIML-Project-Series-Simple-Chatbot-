{
  "cells": [
    {
      "cell_type": "markdown",
      "source": [
        "\n",
        " **1.Basic Functionality\n",
        "Greeting Function**\n",
        "The chatbot should start with a friendly greeting."
      ],
      "metadata": {
        "id": "9VpRiclYqwDe"
      }
    },
    {
      "cell_type": "code",
      "execution_count": 5,
      "metadata": {
        "id": "KZ-xEVzgGsSc"
      },
      "outputs": [],
      "source": [
        "def greet():\n",
        "    print(\"Hello! I'm your friendly chatbot. How can I assist you today?\")"
      ]
    },
    {
      "cell_type": "markdown",
      "source": [
        "**Response to Basic Questions**\n",
        "The chatbot should be able to respond to at least five basic questions.\n",
        "python"
      ],
      "metadata": {
        "id": "vb3ydafpq9t7"
      }
    },
    {
      "cell_type": "code",
      "execution_count": 1,
      "metadata": {
        "id": "5fBWkTZUHBk6"
      },
      "outputs": [],
      "source": [
        "def respond_to_question(question):\n",
        "    responses = {\n",
        "        \"how are you?\": \"I'm just a bunch of code, but I'm doing great! How about you?\",\n",
        "        \"what is your name?\": \"I'm Chatbot! Nice to meet you.\",\n",
        "        \"what can you do?\": \"I can chat with you, answer questions, and learn from our conversation!\",\n",
        "        \"tell me a joke.\": \"Why did the scarecrow win an award? Because he was outstanding in his field!\",\n",
        "        \"what is the weather like?\": \"I can't check the weather, but I hope it's sunny where you are!\"\n",
        "    }\n",
        "\n",
        "    return responses.get(question.lower(), \"I'm sorry, I didn't understand that.\")"
      ]
    },
    {
      "cell_type": "markdown",
      "source": [
        "**Farewell Message**\n",
        "The chatbot should end the conversation with a farewell message."
      ],
      "metadata": {
        "id": "VMIDTqxDrDaq"
      }
    },
    {
      "cell_type": "code",
      "execution_count": 4,
      "metadata": {
        "id": "lD3Zhhu8HFEd"
      },
      "outputs": [],
      "source": [
        "def farewell():\n",
        "    print(\"Thank you for chatting with me! Have a great day!\")"
      ]
    },
    {
      "cell_type": "markdown",
      "source": [
        "**2. Previous Context\n",
        "Memory Mechanism**\n",
        "To remember previous interactions, use a simple list to store user responses.\n",
        "python"
      ],
      "metadata": {
        "id": "A71Qxi7yrK00"
      }
    },
    {
      "cell_type": "code",
      "execution_count": 3,
      "metadata": {
        "id": "av4_qq1fHI-8"
      },
      "outputs": [],
      "source": [
        "conversation_history = []\n",
        "\n",
        "def remember_response(response):\n",
        "    conversation_history.append(response)"
      ]
    },
    {
      "cell_type": "markdown",
      "source": [
        "**3. User Interaction\n",
        "Flow of Interactiont**\n",
        "The chatbot should ask the user questions and respond based on their input"
      ],
      "metadata": {
        "id": "NrFSNT0erYNm"
      }
    },
    {
      "cell_type": "code",
      "execution_count": 6,
      "metadata": {
        "id": "RKe5MWLhHMVW"
      },
      "outputs": [],
      "source": [
        "def chat():\n",
        "    greet()\n",
        "\n",
        "    for _ in range(3):  # Ask three questions\n",
        "        user_input = input(\"You: \")\n",
        "        remember_response(user_input)\n",
        "\n",
        "        if user_input.lower() in [\"exit\", \"bye\", \"quit\"]:\n",
        "            farewell()\n",
        "            return\n",
        "\n",
        "        response = respond_to_question(user_input)\n",
        "        print(\"Chatbot:\", response)\n",
        "\n",
        "    farewell()"
      ]
    },
    {
      "cell_type": "markdown",
      "source": [
        "**4. Error Handling\n",
        "Basic Error Handling**\n",
        "If the chatbot does not understand the input, it should respond with a friendly message.\n",
        "python"
      ],
      "metadata": {
        "id": "lThIpTw6rhQu"
      }
    },
    {
      "cell_type": "code",
      "execution_count": 7,
      "metadata": {
        "id": "u3T2YemgHPqa"
      },
      "outputs": [],
      "source": [
        "def respond_to_question(question):\n",
        "    responses = {\n",
        "        \"how are you?\": \"I'm just a bunch of code, but I'm doing great! How about you?\",\n",
        "        \"what is your name?\": \"I'm Chatbot! Nice to meet you.\",\n",
        "        \"what can you do?\": \"I can chat with you, answer questions, and learn from our conversation!\",\n",
        "        \"tell me a joke.\": \"Why did the scarecrow win an award? Because he was outstanding in his field!\",\n",
        "        \"what is the weather like?\": \"I can't check the weather, but I hope it's sunny where you are!\"\n",
        "    }\n",
        "\n",
        "    return responses.get(question.lower(), \"I'm sorry, I didn't understand that. Could you please rephrase?\")"
      ]
    },
    {
      "cell_type": "code",
      "execution_count": 8,
      "metadata": {
        "colab": {
          "base_uri": "https://localhost:8080/"
        },
        "id": "5cXcauT0HSne",
        "outputId": "80a4a0da-39aa-44eb-ce23-35f33d6e49a0"
      },
      "outputs": [
        {
          "output_type": "stream",
          "name": "stdout",
          "text": [
            "Hello! I'm your friendly chatbot. How can I assist you today?\n",
            "You: what is your name?\n",
            "Chatbot: I'm Chatbot! Nice to meet you.\n",
            "You: tell me a joke\n",
            "Chatbot: I'm sorry, I didn't understand that. Could you please rephrase?\n",
            "You: tell me a joke.\n",
            "Chatbot: Why did the scarecrow win an award? Because he was outstanding in his field!\n",
            "Thank you for chatting with me! Have a great day!\n"
          ]
        }
      ],
      "source": [
        "def chat():\n",
        "    greet()\n",
        "\n",
        "    for _ in range(3):  # Ask three questions\n",
        "        user_input = input(\"You: \")\n",
        "        remember_response(user_input)\n",
        "\n",
        "        if user_input.lower() in [\"exit\", \"bye\", \"quit\"]:\n",
        "            farewell()\n",
        "            return\n",
        "\n",
        "        response = respond_to_question(user_input)\n",
        "        print(\"Chatbot:\", response)\n",
        "\n",
        "    farewell()\n",
        "\n",
        "# Start the chatbot\n",
        "if __name__ == \"__main__\":\n",
        "    chat()"
      ]
    }
  ],
  "metadata": {
    "colab": {
      "provenance": []
    },
    "kernelspec": {
      "display_name": "Python 3",
      "name": "python3"
    },
    "language_info": {
      "name": "python"
    }
  },
  "nbformat": 4,
  "nbformat_minor": 0
}